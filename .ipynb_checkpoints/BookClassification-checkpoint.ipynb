{
 "cells": [
  {
   "cell_type": "code",
   "execution_count": 29,
   "metadata": {},
   "outputs": [],
   "source": [
    "import numpy as np\n",
    "import torch\n",
    "import re"
   ]
  },
  {
   "cell_type": "markdown",
   "metadata": {},
   "source": [
    "# Import text"
   ]
  },
  {
   "cell_type": "code",
   "execution_count": 105,
   "metadata": {},
   "outputs": [
    {
     "name": "stdout",
     "output_type": "stream",
     "text": [
      "[['chapter', 'i'], ['prejudices', 'of', 'philosophers', 'the', 'will', 'to', 'truth', 'which', 'is', 'to', 'tempt', 'us', 'to', 'many', 'a', 'hazardous', 'enterprise', 'the', 'famous', 'truthfulness', 'of', 'which', 'all', 'philosophers', 'have', 'hitherto', 'spoken', 'with', 'respect', 'what', 'questions', 'has', 'this', 'will', 'to', 'truth', 'not', 'laid', 'before', 'us'], ['what', 'strange', 'perplexing', 'questionable', 'questions'], ['it', 'is', 'already', 'a', 'long', 'story', 'yet', 'it', 'seems', 'as', 'if', 'it', 'were', 'hardly', 'commenced'], ['is', 'it', 'any', 'wonder', 'if', 'we', 'at', 'last', 'grow', 'distrustful', 'lose', 'patience', 'and', 'turn', 'impatiently', 'away']]\n"
     ]
    }
   ],
   "source": [
    "data_files = ['Beyond good and Evil.txt',\n",
    "              'The Birth of Tragedy.txt',\n",
    "              'On the Genealogy of Morality.txt',\n",
    "              'Thus Spoke Zarathustra.txt',\n",
    "              'The Antichrist.txt']\n",
    "book_names = ['Beyond good and Evil',\n",
    "              'The Birth of Tragedy',\n",
    "              'On the Genealogy of Morality',\n",
    "              'Thus Spoke Zarathustra',\n",
    "              'The Antichrist']\n",
    "\n",
    "data_lines =[]\n",
    "for file in data_files:\n",
    "    path = 'datasets/{}'.format(file)\n",
    "    with open(path) as f:\n",
    "        lines = f.readlines()\n",
    "    data_lines.append(lines)\n",
    "    \n",
    "data_strings = [\" \".join(d).replace(\"\\n\",\"\") for d in data_lines]\n",
    "data_sentences = []\n",
    "for st in data_strings:\n",
    "    st = re.sub(\"[^a-zA-Z0-9\\.\\?\\! ]\", \"\", st)\n",
    "    st = re.sub(\"\\d+\\.\", \"\", st)\n",
    "    sentences = re.split(\"\\. |\\! |\\?\", st)\n",
    "    data_sentences.append([[elem.lower() for elem in sent.split(\" \") if elem != \"\"] for sent in sentences])\n",
    "    \n",
    "print(data_sentences[0][:5])"
   ]
  },
  {
   "cell_type": "code",
   "execution_count": null,
   "metadata": {},
   "outputs": [],
   "source": []
  },
  {
   "cell_type": "code",
   "execution_count": null,
   "metadata": {},
   "outputs": [],
   "source": []
  }
 ],
 "metadata": {
  "kernelspec": {
   "display_name": "Python 3",
   "language": "python",
   "name": "python3"
  },
  "language_info": {
   "codemirror_mode": {
    "name": "ipython",
    "version": 3
   },
   "file_extension": ".py",
   "mimetype": "text/x-python",
   "name": "python",
   "nbconvert_exporter": "python",
   "pygments_lexer": "ipython3",
   "version": "3.6.5"
  }
 },
 "nbformat": 4,
 "nbformat_minor": 2
}
